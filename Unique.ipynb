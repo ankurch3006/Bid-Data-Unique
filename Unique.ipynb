{
 "cells": [
  {
   "cell_type": "code",
   "execution_count": 49,
   "metadata": {},
   "outputs": [],
   "source": [
    "import pandas as pd\n",
    "import vaex\n",
    "import time\n",
    "import threading\n",
    "import multiprocessing\n",
    "import concurrent.futures"
   ]
  },
  {
   "cell_type": "code",
   "execution_count": 52,
   "metadata": {},
   "outputs": [
    {
     "name": "stdout",
     "output_type": "stream",
     "text": [
      "Upload time : 0.28 secs\n"
     ]
    }
   ],
   "source": [
    "# Import the dataset\n",
    "start_upload = time.perf_counter()\n",
    "# df = vaex.read_csv_and_convert('test_csv11.csv', shuffle=False, copy_index=False)\n",
    "df = pd.read_csv('test_csv11.csv')\n",
    "finish_upload = time.perf_counter()\n",
    "print(f\"Upload time : {round(finish_upload - start_upload, 2)} secs\")"
   ]
  },
  {
   "cell_type": "code",
   "execution_count": 58,
   "metadata": {},
   "outputs": [
    {
     "name": "stdout",
     "output_type": "stream",
     "text": [
      "Execution time : 0.23 secs\n"
     ]
    }
   ],
   "source": [
    "start_execution = time.perf_counter()\n",
    "df_final = pd.DataFrame()\n",
    "\n",
    "MultiThreading\n",
    "def task(col):\n",
    "    s = time.perf_counter()\n",
    "    df_final[col] = pd.Series((df[col]).unique())\n",
    "    f = time.perf_counter()\n",
    "    print(f\"Single column execution time: {round(f - s, 2)} secs\")\n",
    "\n",
    "with concurrent.futures.ThreadPoolExecutor() as executor:\n",
    "    for col in df:\n",
    "#         executor.submit(task, col) \n",
    "\n",
    "# Normal Process\n",
    "# for col in df:\n",
    "#     df_final[col] = pd.Series((df[col]).unique())\n",
    "\n",
    "for col in df:\n",
    "    df_final[col] = pd.Series(list(set(df[col])))\n",
    "\n",
    "finish_execution = time.perf_counter()\n",
    "print(f\"Execution time : {round(finish_execution - start_execution, 2)} secs\")"
   ]
  },
  {
   "cell_type": "code",
   "execution_count": 46,
   "metadata": {},
   "outputs": [
    {
     "name": "stdout",
     "output_type": "stream",
     "text": [
      "       Name    Place   Age  Roll_No\n",
      "0     Ankur   Ranchi  25.0        1\n",
      "1    Vishal    Patna  26.0        3\n",
      "2     Rahul  Deoghar  23.0        4\n",
      "3    Sanket    Jammu  27.0        5\n",
      "4  Kitchloo  Lucknow   NaN        6\n",
      "5   Makrand      NaN   NaN        7\n"
     ]
    }
   ],
   "source": [
    "print(df_final)"
   ]
  },
  {
   "cell_type": "code",
   "execution_count": null,
   "metadata": {},
   "outputs": [],
   "source": []
  }
 ],
 "metadata": {
  "kernelspec": {
   "display_name": "Python 3",
   "language": "python",
   "name": "python3"
  },
  "language_info": {
   "codemirror_mode": {
    "name": "ipython",
    "version": 3
   },
   "file_extension": ".py",
   "mimetype": "text/x-python",
   "name": "python",
   "nbconvert_exporter": "python",
   "pygments_lexer": "ipython3",
   "version": "3.6.5"
  }
 },
 "nbformat": 4,
 "nbformat_minor": 2
}
